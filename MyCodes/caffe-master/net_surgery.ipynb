{
 "metadata": {
  "name": "",
  "signature": "sha256:beb3da62d85502036391ae9cd93699ac5bb2974e7180c2ea5ba333c963749703"
 },
 "nbformat": 3,
 "nbformat_minor": 0,
 "worksheets": [
  {
   "cells": [
    {
     "cell_type": "heading",
     "level": 1,
     "metadata": {},
     "source": [
      "Net Surgery"
     ]
    },
    {
     "cell_type": "code",
     "collapsed": false,
     "input": [],
     "language": "python",
     "metadata": {},
     "outputs": []
    }
   ],
   "metadata": {}
  }
 ]
}