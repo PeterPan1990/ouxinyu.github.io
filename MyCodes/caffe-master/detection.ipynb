{
 "metadata": {
  "name": "",
  "signature": "sha256:d9077fae6db927106a173200c536574626737d5be79e3d8fa080576033021bec"
 },
 "nbformat": 3,
 "nbformat_minor": 0,
 "worksheets": [
  {
   "cells": [
    {
     "cell_type": "heading",
     "level": 1,
     "metadata": {},
     "source": [
      "R-CNN detection"
     ]
    },
    {
     "cell_type": "code",
     "collapsed": false,
     "input": [],
     "language": "python",
     "metadata": {},
     "outputs": []
    }
   ],
   "metadata": {}
  }
 ]
}