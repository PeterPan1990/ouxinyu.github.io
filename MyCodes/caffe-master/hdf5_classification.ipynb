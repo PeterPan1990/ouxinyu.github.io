{
 "metadata": {
  "name": "",
  "signature": "sha256:e5632aa267a31c91be87f9e2918f81ad320c52de6de8fa2a493b3b03b79a56d0"
 },
 "nbformat": 3,
 "nbformat_minor": 0,
 "worksheets": [
  {
   "cells": [
    {
     "cell_type": "heading",
     "level": 1,
     "metadata": {},
     "source": [
      "Caffeinated Logistic Regression of HDF5 Data"
     ]
    },
    {
     "cell_type": "code",
     "collapsed": false,
     "input": [],
     "language": "python",
     "metadata": {},
     "outputs": []
    }
   ],
   "metadata": {}
  }
 ]
}