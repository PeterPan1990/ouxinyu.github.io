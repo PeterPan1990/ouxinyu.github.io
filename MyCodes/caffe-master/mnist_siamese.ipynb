{
 "metadata": {
  "name": "",
  "signature": "sha256:2ee322cfa925fab74d2a5c1d3481c1268d8f6eb8d4ca1ea6dfa36485af145acd"
 },
 "nbformat": 3,
 "nbformat_minor": 0,
 "worksheets": [
  {
   "cells": [
    {
     "cell_type": "heading",
     "level": 1,
     "metadata": {},
     "source": [
      "Siamese network embedding"
     ]
    },
    {
     "cell_type": "code",
     "collapsed": false,
     "input": [],
     "language": "python",
     "metadata": {},
     "outputs": [],
     "prompt_number": 0
    }
   ],
   "metadata": {}
  }
 ]
}